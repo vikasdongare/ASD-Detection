{
 "cells": [
  {
   "cell_type": "code",
   "execution_count": 1,
   "metadata": {
    "executionInfo": {
     "elapsed": 382,
     "status": "ok",
     "timestamp": 1644568425058,
     "user": {
      "displayName": "B_29_Vikas Dongare",
      "photoUrl": "https://lh3.googleusercontent.com/a-/AOh14GgY4cEo59mopkkNg4EioiQSH8LqTozRZWrNEVhIbVU=s64",
      "userId": "06936950832898925922"
     },
     "user_tz": -330
    },
    "id": "aRprCUTiM5U_"
   },
   "outputs": [],
   "source": [
    "from tensorflow.keras.layers import Dense,Dropout,Activation, Flatten, Conv2D, MaxPooling2D\n",
    "from tensorflow.keras.preprocessing.image import ImageDataGenerator\n",
    "from tensorflow.keras.layers import Reshape\n",
    "from tensorflow.keras.preprocessing import image\n",
    "from tensorflow.keras.optimizers import RMSprop\n",
    "import matplotlib.pyplot as plt\n",
    "import tensorflow as tf\n",
    "import numpy as np\n",
    "import cv2\n",
    "import os\n",
    "import tensorflowjs as tfjs"
   ]
  },
  {
   "cell_type": "code",
   "execution_count": 54,
   "metadata": {
    "executionInfo": {
     "elapsed": 5,
     "status": "ok",
     "timestamp": 1644568428267,
     "user": {
      "displayName": "B_29_Vikas Dongare",
      "photoUrl": "https://lh3.googleusercontent.com/a-/AOh14GgY4cEo59mopkkNg4EioiQSH8LqTozRZWrNEVhIbVU=s64",
      "userId": "06936950832898925922"
     },
     "user_tz": -330
    },
    "id": "Y-6Y55DAMU17"
   },
   "outputs": [],
   "source": [
    "IMG_HEIGHT = 64\n",
    "IMG_WIDTH = 64\n",
    "BATCH_SIZE = 16\n",
    "EPOCHS = 60"
   ]
  },
  {
   "cell_type": "code",
   "execution_count": 61,
   "metadata": {
    "colab": {
     "base_uri": "https://localhost:8080/"
    },
    "executionInfo": {
     "elapsed": 514,
     "status": "ok",
     "timestamp": 1644568428776,
     "user": {
      "displayName": "B_29_Vikas Dongare",
      "photoUrl": "https://lh3.googleusercontent.com/a-/AOh14GgY4cEo59mopkkNg4EioiQSH8LqTozRZWrNEVhIbVU=s64",
      "userId": "06936950832898925922"
     },
     "user_tz": -330
    },
    "id": "CaZRdoKnNMgG",
    "outputId": "1c517acf-ade6-4644-99f0-e74197c42ee2"
   },
   "outputs": [
    {
     "name": "stdout",
     "output_type": "stream",
     "text": [
      "Found 2540 images belonging to 2 classes.\n",
      "Found 100 images belonging to 2 classes.\n"
     ]
    }
   ],
   "source": [
    "path = 'C:/Users/Vikas/Documents/FinalPrj/AutismDataset/'\n",
    "# train = ImageDataGenerator(rescale=1/255)\n",
    "validation = ImageDataGenerator(rescale=1/255)\n",
    "train = ImageDataGenerator(\n",
    "        rotation_range=25,\n",
    "        fill_mode='nearest',\n",
    "        width_shift_range=0.15,\n",
    "        height_shift_range=0.15,\n",
    "        rescale=1/255,\n",
    "#         shear_range=0.15,\n",
    "#         zoom_range=0.15,\n",
    "        horizontal_flip=True,\n",
    "        vertical_flip=True,    \n",
    "#         brightness_range=[0.4,1.0]\n",
    ")\n",
    "\n",
    "train_dataset = train.flow_from_directory(path + 'train',\n",
    "                                         target_size=(IMG_HEIGHT,IMG_WIDTH),\n",
    "                                          batch_size=BATCH_SIZE,\n",
    "                                         class_mode='binary')\n",
    "validation_dataset = validation.flow_from_directory(path + 'valid',\n",
    "                                         target_size=(IMG_HEIGHT,IMG_WIDTH),\n",
    "                                          batch_size=BATCH_SIZE,\n",
    "                                         class_mode='binary')"
   ]
  },
  {
   "cell_type": "code",
   "execution_count": 12,
   "metadata": {
    "colab": {
     "base_uri": "https://localhost:8080/"
    },
    "executionInfo": {
     "elapsed": 9,
     "status": "ok",
     "timestamp": 1644568429901,
     "user": {
      "displayName": "B_29_Vikas Dongare",
      "photoUrl": "https://lh3.googleusercontent.com/a-/AOh14GgY4cEo59mopkkNg4EioiQSH8LqTozRZWrNEVhIbVU=s64",
      "userId": "06936950832898925922"
     },
     "user_tz": -330
    },
    "id": "62PDwVoh9qYr",
    "outputId": "fd8c7d4a-61f2-47db-d005-4288b22470dd"
   },
   "outputs": [
    {
     "data": {
      "text/plain": [
       "{'Autistic': 0, 'Non_Autistic': 1}"
      ]
     },
     "execution_count": 12,
     "metadata": {},
     "output_type": "execute_result"
    }
   ],
   "source": [
    "train_dataset.class_indices"
   ]
  },
  {
   "cell_type": "code",
   "execution_count": 13,
   "metadata": {
    "colab": {
     "base_uri": "https://localhost:8080/"
    },
    "executionInfo": {
     "elapsed": 7,
     "status": "ok",
     "timestamp": 1644568429902,
     "user": {
      "displayName": "B_29_Vikas Dongare",
      "photoUrl": "https://lh3.googleusercontent.com/a-/AOh14GgY4cEo59mopkkNg4EioiQSH8LqTozRZWrNEVhIbVU=s64",
      "userId": "06936950832898925922"
     },
     "user_tz": -330
    },
    "id": "XHP5NdNgiwz6",
    "outputId": "39c8e1b1-be23-4bdc-dee2-406e5e288762"
   },
   "outputs": [
    {
     "data": {
      "text/plain": [
       "(64, 64, 3)"
      ]
     },
     "execution_count": 13,
     "metadata": {},
     "output_type": "execute_result"
    }
   ],
   "source": [
    "train_dataset.image_shape"
   ]
  },
  {
   "cell_type": "code",
   "execution_count": 4,
   "metadata": {
    "executionInfo": {
     "elapsed": 4,
     "status": "ok",
     "timestamp": 1644568432300,
     "user": {
      "displayName": "B_29_Vikas Dongare",
      "photoUrl": "https://lh3.googleusercontent.com/a-/AOh14GgY4cEo59mopkkNg4EioiQSH8LqTozRZWrNEVhIbVU=s64",
      "userId": "06936950832898925922"
     },
     "user_tz": -330
    },
    "id": "1ktBZkbV1_Ys"
   },
   "outputs": [],
   "source": [
    "def plot_learning_curve(history, name):\n",
    "    '''\n",
    "    Function to plot the accuracy curve\n",
    "    @param history: (history object) containing all the relevant information about the training\n",
    "    @param name: (string) name of the model\n",
    "    '''\n",
    "    # extract informations \n",
    "    acc     = history.history[\"accuracy\"]\n",
    "    val_acc = history.history[\"val_accuracy\"]\n",
    "    loss    = history.history[\"loss\"] \n",
    "    val_loss= history.history[\"val_loss\"] \n",
    "    epochs  = range(1, len(acc)+1)\n",
    "    # plot accuracy\n",
    "    plt.plot(epochs, acc, 'b-o', label='Training acc')\n",
    "    plt.plot(epochs, val_acc, 'g', label='Validation acc')\n",
    "    plt.title('Training and validation accuracy')\n",
    "    plt.legend()\n",
    "\n",
    "    plt.figure()\n",
    "    # plot losses \n",
    "    plt.plot(epochs, loss, 'b-o', label='Training loss')\n",
    "    plt.plot(epochs, val_loss, 'g', label='Validation loss')\n",
    "    plt.title('Training and validation loss')\n",
    "    plt.legend()\n",
    "    plt.show() \n"
   ]
  },
  {
   "cell_type": "code",
   "execution_count": 62,
   "metadata": {
    "executionInfo": {
     "elapsed": 378,
     "status": "ok",
     "timestamp": 1644568448692,
     "user": {
      "displayName": "B_29_Vikas Dongare",
      "photoUrl": "https://lh3.googleusercontent.com/a-/AOh14GgY4cEo59mopkkNg4EioiQSH8LqTozRZWrNEVhIbVU=s64",
      "userId": "06936950832898925922"
     },
     "user_tz": -330
    },
    "id": "Qzy862S9IdiB"
   },
   "outputs": [],
   "source": [
    "model = tf.keras.models.Sequential()\n",
    "\n",
    "# model.add(Reshape((IMG_HEIGHT,IMG_WIDTH,3), input_shape=(4,)))\n",
    "\n",
    "model.add(Conv2D(32, (3,3)))\n",
    "model.add(Activation(\"relu\"))\n",
    "\n",
    "model.add(MaxPooling2D(pool_size=(2,2)))\n",
    "\n",
    "model.add(Conv2D(64, (3,3)))\n",
    "model.add(Activation(\"relu\"))\n",
    "\n",
    "model.add(MaxPooling2D(pool_size=(2,2)))\n",
    "\n",
    "model.add(Conv2D(128, (3,3)))\n",
    "model.add(Activation(\"relu\"))\n",
    "\n",
    "model.add(MaxPooling2D(pool_size=(2,2)))\n",
    "\n",
    "model.add(Conv2D(256, (3,3)))\n",
    "model.add(Activation(\"relu\"))\n",
    "\n",
    "model.add(MaxPooling2D(pool_size=(2,2)))\n",
    "\n",
    "model.add(Dropout(0.2))\n",
    "model.add(Activation(\"relu\"))\n",
    "\n",
    "model.add(Flatten())\n",
    "\n",
    "model.add(Dense(512))\n",
    "model.add(Activation(\"relu\"))\n",
    "model.add(Dropout(0.2))\n",
    "\n",
    "model.add(Dense(1))\n",
    "model.add(Activation(\"sigmoid\"))\n",
    "\n",
    "model.compile(loss=\"binary_crossentropy\",\n",
    "             optimizer=\"adam\",\n",
    "             metrics=[\"accuracy\"])"
   ]
  },
  {
   "cell_type": "code",
   "execution_count": 63,
   "metadata": {
    "colab": {
     "background_save": true,
     "base_uri": "https://localhost:8080/"
    },
    "id": "Hj7zmL00vxJU",
    "scrolled": true
   },
   "outputs": [
    {
     "name": "stdout",
     "output_type": "stream",
     "text": [
      "Epoch 1/60\n",
      "159/159 [==============================] - 14s 86ms/step - loss: 0.6877 - accuracy: 0.5406 - val_loss: 0.6402 - val_accuracy: 0.7300\n",
      "Epoch 2/60\n",
      "159/159 [==============================] - 15s 93ms/step - loss: 0.6774 - accuracy: 0.5811 - val_loss: 0.6915 - val_accuracy: 0.5500\n",
      "Epoch 3/60\n",
      "159/159 [==============================] - 21s 131ms/step - loss: 0.6548 - accuracy: 0.6157 - val_loss: 0.6308 - val_accuracy: 0.6100\n",
      "Epoch 4/60\n",
      "159/159 [==============================] - 21s 130ms/step - loss: 0.6330 - accuracy: 0.6315 - val_loss: 0.5788 - val_accuracy: 0.7100\n",
      "Epoch 5/60\n",
      "159/159 [==============================] - 20s 128ms/step - loss: 0.6196 - accuracy: 0.6508 - val_loss: 0.5597 - val_accuracy: 0.7100\n",
      "Epoch 6/60\n",
      "159/159 [==============================] - 20s 126ms/step - loss: 0.6160 - accuracy: 0.6610 - val_loss: 0.5135 - val_accuracy: 0.7500\n",
      "Epoch 7/60\n",
      "159/159 [==============================] - 20s 128ms/step - loss: 0.5919 - accuracy: 0.6819 - val_loss: 0.5392 - val_accuracy: 0.7100\n",
      "Epoch 8/60\n",
      "159/159 [==============================] - 21s 134ms/step - loss: 0.5960 - accuracy: 0.6736 - val_loss: 0.5414 - val_accuracy: 0.7000\n",
      "Epoch 9/60\n",
      "159/159 [==============================] - 22s 135ms/step - loss: 0.5833 - accuracy: 0.6858 - val_loss: 0.4997 - val_accuracy: 0.7300\n",
      "Epoch 10/60\n",
      "159/159 [==============================] - 22s 138ms/step - loss: 0.5771 - accuracy: 0.6976 - val_loss: 0.5291 - val_accuracy: 0.7400\n",
      "Epoch 11/60\n",
      "159/159 [==============================] - 22s 137ms/step - loss: 0.5727 - accuracy: 0.6906 - val_loss: 0.5225 - val_accuracy: 0.7200\n",
      "Epoch 12/60\n",
      "159/159 [==============================] - 21s 130ms/step - loss: 0.5711 - accuracy: 0.6969 - val_loss: 0.5513 - val_accuracy: 0.7200\n",
      "Epoch 13/60\n",
      "159/159 [==============================] - 14s 85ms/step - loss: 0.5846 - accuracy: 0.6929 - val_loss: 0.5441 - val_accuracy: 0.7300\n",
      "Epoch 14/60\n",
      "159/159 [==============================] - 13s 84ms/step - loss: 0.5691 - accuracy: 0.7055 - val_loss: 0.5104 - val_accuracy: 0.7300\n",
      "Epoch 15/60\n",
      "159/159 [==============================] - 13s 84ms/step - loss: 0.5723 - accuracy: 0.6996 - val_loss: 0.5173 - val_accuracy: 0.7100\n",
      "Epoch 16/60\n",
      "159/159 [==============================] - 13s 85ms/step - loss: 0.5479 - accuracy: 0.7209 - val_loss: 0.5523 - val_accuracy: 0.7100\n",
      "Epoch 17/60\n",
      "159/159 [==============================] - 13s 84ms/step - loss: 0.5444 - accuracy: 0.7224 - val_loss: 0.4844 - val_accuracy: 0.7600\n",
      "Epoch 18/60\n",
      "159/159 [==============================] - 14s 85ms/step - loss: 0.5569 - accuracy: 0.7110 - val_loss: 0.5022 - val_accuracy: 0.7700\n",
      "Epoch 19/60\n",
      "159/159 [==============================] - 14s 87ms/step - loss: 0.5367 - accuracy: 0.7307 - val_loss: 0.5158 - val_accuracy: 0.7100\n",
      "Epoch 20/60\n",
      "159/159 [==============================] - 16s 100ms/step - loss: 0.5413 - accuracy: 0.7327 - val_loss: 0.4957 - val_accuracy: 0.7100\n",
      "Epoch 21/60\n",
      "159/159 [==============================] - 14s 90ms/step - loss: 0.5325 - accuracy: 0.7276 - val_loss: 0.5033 - val_accuracy: 0.7500\n",
      "Epoch 22/60\n",
      "159/159 [==============================] - 14s 87ms/step - loss: 0.5328 - accuracy: 0.7346 - val_loss: 0.4979 - val_accuracy: 0.6900\n",
      "Epoch 23/60\n",
      "159/159 [==============================] - 14s 86ms/step - loss: 0.5347 - accuracy: 0.7272 - val_loss: 0.4960 - val_accuracy: 0.7400\n",
      "Epoch 24/60\n",
      "159/159 [==============================] - 14s 87ms/step - loss: 0.5205 - accuracy: 0.7394 - val_loss: 0.4679 - val_accuracy: 0.7800\n",
      "Epoch 25/60\n",
      "159/159 [==============================] - 14s 87ms/step - loss: 0.5227 - accuracy: 0.7406 - val_loss: 0.4770 - val_accuracy: 0.7300\n",
      "Epoch 26/60\n",
      "159/159 [==============================] - 14s 86ms/step - loss: 0.5235 - accuracy: 0.7453 - val_loss: 0.4934 - val_accuracy: 0.6900\n",
      "Epoch 27/60\n",
      "159/159 [==============================] - 14s 87ms/step - loss: 0.5163 - accuracy: 0.7398 - val_loss: 0.4622 - val_accuracy: 0.7800\n",
      "Epoch 28/60\n",
      "159/159 [==============================] - 14s 87ms/step - loss: 0.5163 - accuracy: 0.7543 - val_loss: 0.4917 - val_accuracy: 0.7000\n",
      "Epoch 29/60\n",
      "159/159 [==============================] - 14s 86ms/step - loss: 0.5028 - accuracy: 0.7480 - val_loss: 0.4769 - val_accuracy: 0.7400\n",
      "Epoch 30/60\n",
      "159/159 [==============================] - 14s 87ms/step - loss: 0.5167 - accuracy: 0.7441 - val_loss: 0.4852 - val_accuracy: 0.7000\n",
      "Epoch 31/60\n",
      "159/159 [==============================] - 14s 87ms/step - loss: 0.5097 - accuracy: 0.7524 - val_loss: 0.5168 - val_accuracy: 0.7200\n",
      "Epoch 32/60\n",
      "159/159 [==============================] - 14s 88ms/step - loss: 0.4946 - accuracy: 0.7555 - val_loss: 0.5133 - val_accuracy: 0.7100\n",
      "Epoch 33/60\n",
      "159/159 [==============================] - 14s 88ms/step - loss: 0.5058 - accuracy: 0.7461 - val_loss: 0.4883 - val_accuracy: 0.7500\n",
      "Epoch 34/60\n",
      "159/159 [==============================] - 14s 89ms/step - loss: 0.4934 - accuracy: 0.7622 - val_loss: 0.4653 - val_accuracy: 0.7600\n",
      "Epoch 35/60\n",
      "159/159 [==============================] - 14s 88ms/step - loss: 0.4870 - accuracy: 0.7654 - val_loss: 0.4768 - val_accuracy: 0.7700\n",
      "Epoch 36/60\n",
      "159/159 [==============================] - 14s 87ms/step - loss: 0.5031 - accuracy: 0.7606 - val_loss: 0.4589 - val_accuracy: 0.7600\n",
      "Epoch 37/60\n",
      "159/159 [==============================] - 14s 87ms/step - loss: 0.4910 - accuracy: 0.7496 - val_loss: 0.4727 - val_accuracy: 0.8300\n",
      "Epoch 38/60\n",
      "159/159 [==============================] - 14s 87ms/step - loss: 0.4977 - accuracy: 0.7602 - val_loss: 0.4869 - val_accuracy: 0.7300\n",
      "Epoch 39/60\n",
      "159/159 [==============================] - 14s 88ms/step - loss: 0.4936 - accuracy: 0.7594 - val_loss: 0.4660 - val_accuracy: 0.8000\n",
      "Epoch 40/60\n",
      "159/159 [==============================] - 14s 87ms/step - loss: 0.4822 - accuracy: 0.7689 - val_loss: 0.4892 - val_accuracy: 0.6900\n",
      "Epoch 41/60\n",
      "159/159 [==============================] - 14s 88ms/step - loss: 0.4798 - accuracy: 0.7654 - val_loss: 0.4582 - val_accuracy: 0.7500\n",
      "Epoch 42/60\n",
      "159/159 [==============================] - 14s 87ms/step - loss: 0.4710 - accuracy: 0.7787 - val_loss: 0.4491 - val_accuracy: 0.7800\n",
      "Epoch 43/60\n",
      "159/159 [==============================] - 14s 89ms/step - loss: 0.4781 - accuracy: 0.7689 - val_loss: 0.4497 - val_accuracy: 0.7500\n",
      "Epoch 44/60\n",
      "159/159 [==============================] - 14s 88ms/step - loss: 0.4748 - accuracy: 0.7760 - val_loss: 0.4692 - val_accuracy: 0.7600\n",
      "Epoch 45/60\n",
      "159/159 [==============================] - 14s 87ms/step - loss: 0.4753 - accuracy: 0.7693 - val_loss: 0.4617 - val_accuracy: 0.7900\n",
      "Epoch 46/60\n",
      "159/159 [==============================] - 14s 87ms/step - loss: 0.4801 - accuracy: 0.7811 - val_loss: 0.5052 - val_accuracy: 0.7300\n",
      "Epoch 47/60\n",
      "159/159 [==============================] - 14s 88ms/step - loss: 0.4765 - accuracy: 0.7709 - val_loss: 0.4612 - val_accuracy: 0.7700\n",
      "Epoch 48/60\n",
      "159/159 [==============================] - 14s 89ms/step - loss: 0.4709 - accuracy: 0.7787 - val_loss: 0.4630 - val_accuracy: 0.7500\n",
      "Epoch 49/60\n",
      "159/159 [==============================] - 14s 88ms/step - loss: 0.4629 - accuracy: 0.7811 - val_loss: 0.4798 - val_accuracy: 0.7400\n",
      "Epoch 50/60\n",
      "159/159 [==============================] - 14s 88ms/step - loss: 0.4709 - accuracy: 0.7839 - val_loss: 0.4354 - val_accuracy: 0.8200\n",
      "Epoch 51/60\n",
      "159/159 [==============================] - 14s 87ms/step - loss: 0.4704 - accuracy: 0.7791 - val_loss: 0.4389 - val_accuracy: 0.8200\n",
      "Epoch 52/60\n",
      "159/159 [==============================] - 14s 90ms/step - loss: 0.4606 - accuracy: 0.7740 - val_loss: 0.4777 - val_accuracy: 0.7300\n",
      "Epoch 53/60\n",
      "159/159 [==============================] - 14s 87ms/step - loss: 0.4496 - accuracy: 0.7933 - val_loss: 0.4693 - val_accuracy: 0.7500\n",
      "Epoch 54/60\n",
      "159/159 [==============================] - 14s 89ms/step - loss: 0.4672 - accuracy: 0.7803 - val_loss: 0.5026 - val_accuracy: 0.7300\n",
      "Epoch 55/60\n",
      "159/159 [==============================] - 14s 88ms/step - loss: 0.4536 - accuracy: 0.7870 - val_loss: 0.4395 - val_accuracy: 0.7500\n",
      "Epoch 56/60\n",
      "159/159 [==============================] - 14s 88ms/step - loss: 0.4631 - accuracy: 0.7831 - val_loss: 0.5004 - val_accuracy: 0.6700\n",
      "Epoch 57/60\n"
     ]
    },
    {
     "name": "stdout",
     "output_type": "stream",
     "text": [
      "159/159 [==============================] - 14s 86ms/step - loss: 0.4554 - accuracy: 0.7902 - val_loss: 0.4270 - val_accuracy: 0.7800\n",
      "Epoch 58/60\n",
      "159/159 [==============================] - 14s 86ms/step - loss: 0.4514 - accuracy: 0.7898 - val_loss: 0.4575 - val_accuracy: 0.7700\n",
      "Epoch 59/60\n",
      "159/159 [==============================] - 13s 85ms/step - loss: 0.4675 - accuracy: 0.7776 - val_loss: 0.4364 - val_accuracy: 0.8600\n",
      "Epoch 60/60\n",
      "159/159 [==============================] - 14s 86ms/step - loss: 0.4503 - accuracy: 0.7823 - val_loss: 0.4375 - val_accuracy: 0.7900\n"
     ]
    }
   ],
   "source": [
    "model_fit = model.fit(train_dataset,\n",
    "                      batch_size = BATCH_SIZE,\n",
    "                      epochs = EPOCHS, \n",
    "                      validation_data = validation_dataset\n",
    "                     )              "
   ]
  },
  {
   "cell_type": "code",
   "execution_count": 64,
   "metadata": {},
   "outputs": [
    {
     "data": {
      "image/png": "[encoded data removed]",
      "text/plain": [
       "<Figure size 432x288 with 1 Axes>"
      ]
     },
     "metadata": {
      "needs_background": "light"
     },
     "output_type": "display_data"
    },
    {
     "data": {
      "image/png": "[encoded data removed]",
      "text/plain": [
       "<Figure size 432x288 with 1 Axes>"
      ]
     },
     "metadata": {
      "needs_background": "light"
     },
     "output_type": "display_data"
    }
   ],
   "source": [
    "plot_learning_curve(model_fit, \"ASD\")  "
   ]
  },
  {
   "cell_type": "code",
   "execution_count": 65,
   "metadata": {
    "scrolled": true
   },
   "outputs": [
    {
     "name": "stdout",
     "output_type": "stream",
     "text": [
      "Autistic Autistic.0.jpg\n",
      "Autistic Autistic.1.jpg\n",
      "Autistic Autistic.10.jpg\n",
      "Autistic Autistic.100.jpg\n",
      "Autistic Autistic.101.jpg\n",
      "Autistic Autistic.102.jpg\n",
      "Autistic Autistic.103.jpg\n",
      "Autistic Autistic.104.jpg\n",
      "Autistic Autistic.105.jpg\n",
      "Autistic Autistic.106.jpg\n",
      "Non_Autistic Autistic.107.jpg\n",
      "Autistic Autistic.108.jpg\n",
      "Autistic Autistic.109.jpg\n",
      "Autistic Autistic.11.jpg\n",
      "Autistic Autistic.110.jpg\n",
      "Autistic Autistic.111.jpg\n",
      "Autistic Autistic.112.jpg\n",
      "Autistic Autistic.113.jpg\n",
      "Autistic Autistic.114.jpg\n",
      "Non_Autistic Autistic.115.jpg\n",
      "Autistic Autistic.116.jpg\n",
      "Autistic Autistic.117.jpg\n",
      "Non_Autistic Autistic.118.jpg\n",
      "Autistic Autistic.119.jpg\n",
      "Non_Autistic Autistic.12.jpg\n",
      "Autistic Autistic.120.jpg\n",
      "Autistic Autistic.121.jpg\n",
      "Autistic Autistic.122.jpg\n",
      "Autistic Autistic.123.jpg\n",
      "Autistic Autistic.124.jpg\n",
      "Autistic Autistic.125.jpg\n",
      "Autistic Autistic.126.jpg\n",
      "Autistic Autistic.127.jpg\n",
      "Autistic Autistic.128.jpg\n",
      "Autistic Autistic.129.jpg\n",
      "Autistic Autistic.13.jpg\n",
      "Autistic Autistic.130.jpg\n",
      "Autistic Autistic.131.jpg\n",
      "Autistic Autistic.132.jpg\n",
      "Autistic Autistic.133.jpg\n",
      "Autistic Autistic.134.jpg\n",
      "Autistic Autistic.135.jpg\n",
      "Autistic Autistic.136.jpg\n",
      "Autistic Autistic.137.jpg\n",
      "Autistic Autistic.138.jpg\n",
      "Autistic Autistic.139.jpg\n",
      "Autistic Autistic.14.jpg\n",
      "Autistic Autistic.140.jpg\n",
      "Autistic Autistic.141.jpg\n",
      "Autistic Autistic.142.jpg\n",
      "Autistic Autistic.143.jpg\n",
      "Autistic Autistic.144.jpg\n",
      "Autistic Autistic.145.jpg\n",
      "Autistic Autistic.146.jpg\n",
      "Autistic Autistic.147.jpg\n",
      "Autistic Autistic.148.jpg\n",
      "Autistic Autistic.149.jpg\n",
      "Autistic Autistic.15.jpg\n",
      "Autistic Autistic.16.jpg\n",
      "Autistic Autistic.17.jpg\n",
      "Autistic Autistic.18.jpg\n",
      "Autistic Autistic.19.jpg\n",
      "Autistic Autistic.2.jpg\n",
      "Non_Autistic Autistic.20.jpg\n",
      "Autistic Autistic.21.jpg\n",
      "Autistic Autistic.22.jpg\n",
      "Autistic Autistic.23.jpg\n",
      "Autistic Autistic.24.jpg\n",
      "Autistic Autistic.25.jpg\n",
      "Autistic Autistic.26.jpg\n",
      "Autistic Autistic.27.jpg\n",
      "Autistic Autistic.28.jpg\n",
      "Autistic Autistic.29.jpg\n",
      "Autistic Autistic.3.jpg\n",
      "Non_Autistic Autistic.30.jpg\n",
      "Autistic Autistic.31.jpg\n",
      "Autistic Autistic.32.jpg\n",
      "Autistic Autistic.33.jpg\n",
      "Autistic Autistic.34.jpg\n",
      "Non_Autistic Autistic.35.jpg\n",
      "Autistic Autistic.36.jpg\n",
      "Autistic Autistic.37.jpg\n",
      "Autistic Autistic.38.jpg\n",
      "Autistic Autistic.39.jpg\n",
      "Autistic Autistic.4.jpg\n",
      "Autistic Autistic.40.jpg\n",
      "Autistic Autistic.41.jpg\n",
      "Autistic Autistic.42.jpg\n",
      "Autistic Autistic.43.jpg\n",
      "Autistic Autistic.44.jpg\n",
      "Autistic Autistic.45.jpg\n",
      "Autistic Autistic.46.jpg\n",
      "Autistic Autistic.47.jpg\n",
      "Autistic Autistic.48.jpg\n",
      "Non_Autistic Autistic.49.jpg\n",
      "Autistic Autistic.5.jpg\n",
      "Autistic Autistic.50.jpg\n",
      "Autistic Autistic.51.jpg\n",
      "Non_Autistic Autistic.52.jpg\n",
      "Autistic Autistic.53.jpg\n",
      "Non_Autistic Autistic.54.jpg\n",
      "Autistic Autistic.55.jpg\n",
      "Autistic Autistic.56.jpg\n",
      "Autistic Autistic.57.jpg\n",
      "Non_Autistic Autistic.58.jpg\n",
      "Autistic Autistic.59.jpg\n",
      "Autistic Autistic.6.jpg\n",
      "Non_Autistic Autistic.60.jpg\n",
      "Autistic Autistic.61.jpg\n",
      "Autistic Autistic.62.jpg\n",
      "Autistic Autistic.63.jpg\n",
      "Autistic Autistic.64.jpg\n",
      "Autistic Autistic.65.jpg\n",
      "Autistic Autistic.66.jpg\n",
      "Autistic Autistic.67.jpg\n",
      "Autistic Autistic.68.jpg\n",
      "Autistic Autistic.69.jpg\n",
      "Autistic Autistic.7.jpg\n",
      "Autistic Autistic.70.jpg\n",
      "Autistic Autistic.71.jpg\n",
      "Autistic Autistic.72.jpg\n",
      "Non_Autistic Autistic.73.jpg\n",
      "Autistic Autistic.74.jpg\n",
      "Autistic Autistic.75.jpg\n",
      "Autistic Autistic.76.jpg\n",
      "Autistic Autistic.77.jpg\n",
      "Autistic Autistic.78.jpg\n",
      "Autistic Autistic.79.jpg\n",
      "Autistic Autistic.8.jpg\n",
      "Autistic Autistic.80.jpg\n",
      "Autistic Autistic.81.jpg\n",
      "Autistic Autistic.82.jpg\n",
      "Autistic Autistic.83.jpg\n",
      "Autistic Autistic.84.jpg\n",
      "Autistic Autistic.85.jpg\n",
      "Non_Autistic Autistic.86.jpg\n",
      "Autistic Autistic.87.jpg\n",
      "Autistic Autistic.88.jpg\n",
      "Autistic Autistic.89.jpg\n",
      "Autistic Autistic.9.jpg\n",
      "Autistic Autistic.90.jpg\n",
      "Autistic Autistic.91.jpg\n",
      "Autistic Autistic.92.jpg\n",
      "Autistic Autistic.93.jpg\n",
      "Autistic Autistic.94.jpg\n",
      "Autistic Autistic.95.jpg\n",
      "Autistic Autistic.96.jpg\n",
      "Autistic Autistic.97.jpg\n",
      "Autistic Autistic.98.jpg\n",
      "Autistic Autistic.99.jpg\n",
      "Non_Autistic Non_Autistic.0.jpg\n",
      "Autistic Non_Autistic.1.jpg\n",
      "Autistic Non_Autistic.10.jpg\n",
      "Non_Autistic Non_Autistic.100.jpg\n",
      "Autistic Non_Autistic.101.jpg\n",
      "Autistic Non_Autistic.102.jpg\n",
      "Non_Autistic Non_Autistic.103.jpg\n",
      "Non_Autistic Non_Autistic.104.jpg\n",
      "Non_Autistic Non_Autistic.105.jpg\n",
      "Autistic Non_Autistic.106.jpg\n",
      "Autistic Non_Autistic.107.jpg\n",
      "Non_Autistic Non_Autistic.108.jpg\n",
      "Non_Autistic Non_Autistic.109.jpg\n",
      "Autistic Non_Autistic.11.jpg\n",
      "Non_Autistic Non_Autistic.110.jpg\n",
      "Autistic Non_Autistic.111.jpg\n",
      "Autistic Non_Autistic.112.jpg\n",
      "Non_Autistic Non_Autistic.113.jpg\n",
      "Non_Autistic Non_Autistic.114.jpg\n",
      "Autistic Non_Autistic.115.jpg\n",
      "Autistic Non_Autistic.116.jpg\n",
      "Non_Autistic Non_Autistic.117.jpg\n",
      "Autistic Non_Autistic.118.jpg\n",
      "Non_Autistic Non_Autistic.119.jpg\n",
      "Autistic Non_Autistic.12.jpg\n",
      "Non_Autistic Non_Autistic.120.jpg\n",
      "Autistic Non_Autistic.121.jpg\n",
      "Non_Autistic Non_Autistic.122.jpg\n",
      "Non_Autistic Non_Autistic.123.jpg\n",
      "Non_Autistic Non_Autistic.124.jpg\n",
      "Autistic Non_Autistic.125.jpg\n",
      "Non_Autistic Non_Autistic.126.jpg\n",
      "Autistic Non_Autistic.127.jpg\n",
      "Non_Autistic Non_Autistic.128.jpg\n",
      "Non_Autistic Non_Autistic.129.jpg\n",
      "Non_Autistic Non_Autistic.13.jpg\n",
      "Non_Autistic Non_Autistic.130.jpg\n",
      "Non_Autistic Non_Autistic.131.jpg\n",
      "Non_Autistic Non_Autistic.132.jpg\n",
      "Autistic Non_Autistic.133.jpg\n",
      "Autistic Non_Autistic.134.jpg\n",
      "Non_Autistic Non_Autistic.135.jpg\n",
      "Non_Autistic Non_Autistic.136.jpg\n",
      "Autistic Non_Autistic.137.jpg\n",
      "Non_Autistic Non_Autistic.138.jpg\n",
      "Non_Autistic Non_Autistic.139.jpg\n",
      "Non_Autistic Non_Autistic.14.jpg\n",
      "Non_Autistic Non_Autistic.140.jpg\n",
      "Non_Autistic Non_Autistic.141.jpg\n",
      "Non_Autistic Non_Autistic.142.jpg\n",
      "Non_Autistic Non_Autistic.143.jpg\n",
      "Non_Autistic Non_Autistic.144.jpg\n",
      "Autistic Non_Autistic.145.jpg\n",
      "Non_Autistic Non_Autistic.146.jpg\n",
      "Non_Autistic Non_Autistic.147.jpg\n",
      "Non_Autistic Non_Autistic.148.jpg\n",
      "Autistic Non_Autistic.149.jpg\n",
      "Non_Autistic Non_Autistic.15.jpg\n",
      "Autistic Non_Autistic.16.jpg\n",
      "Non_Autistic Non_Autistic.17.jpg\n",
      "Autistic Non_Autistic.18.jpg\n",
      "Autistic Non_Autistic.19.jpg\n",
      "Autistic Non_Autistic.2.jpg\n",
      "Non_Autistic Non_Autistic.20.jpg\n",
      "Non_Autistic Non_Autistic.21.jpg\n",
      "Autistic Non_Autistic.22.jpg\n",
      "Autistic Non_Autistic.23.jpg\n",
      "Autistic Non_Autistic.24.jpg\n",
      "Autistic Non_Autistic.25.jpg\n",
      "Non_Autistic Non_Autistic.26.jpg\n",
      "Non_Autistic Non_Autistic.27.jpg\n",
      "Non_Autistic Non_Autistic.28.jpg\n",
      "Autistic Non_Autistic.29.jpg\n",
      "Autistic Non_Autistic.3.jpg\n",
      "Autistic Non_Autistic.30.jpg\n",
      "Autistic Non_Autistic.31.jpg\n",
      "Non_Autistic Non_Autistic.32.jpg\n",
      "Non_Autistic Non_Autistic.33.jpg\n",
      "Autistic Non_Autistic.34.jpg\n",
      "Autistic Non_Autistic.35.jpg\n",
      "Non_Autistic Non_Autistic.36.jpg\n",
      "Autistic Non_Autistic.37.jpg\n",
      "Non_Autistic Non_Autistic.38.jpg\n",
      "Non_Autistic Non_Autistic.39.jpg\n",
      "Non_Autistic Non_Autistic.4.jpg\n",
      "Non_Autistic Non_Autistic.40.jpg\n",
      "Autistic Non_Autistic.41.jpg\n",
      "Autistic Non_Autistic.42.jpg\n",
      "Autistic Non_Autistic.43.jpg\n",
      "Non_Autistic Non_Autistic.44.jpg\n",
      "Autistic Non_Autistic.45.jpg\n",
      "Autistic Non_Autistic.46.jpg\n",
      "Autistic Non_Autistic.47.jpg\n",
      "Autistic Non_Autistic.48.jpg\n",
      "Non_Autistic Non_Autistic.49.jpg\n",
      "Autistic Non_Autistic.5.jpg\n",
      "Autistic Non_Autistic.50.jpg\n",
      "Autistic Non_Autistic.51.jpg\n",
      "Autistic Non_Autistic.52.jpg\n",
      "Autistic Non_Autistic.53.jpg\n",
      "Autistic Non_Autistic.54.jpg\n",
      "Non_Autistic Non_Autistic.55.jpg\n",
      "Autistic Non_Autistic.56.jpg\n",
      "Non_Autistic Non_Autistic.57.jpg\n",
      "Autistic Non_Autistic.58.jpg\n",
      "Non_Autistic Non_Autistic.59.jpg\n",
      "Autistic Non_Autistic.6.jpg\n",
      "Autistic Non_Autistic.60.jpg\n",
      "Non_Autistic Non_Autistic.61.jpg\n",
      "Non_Autistic Non_Autistic.62.jpg\n",
      "Non_Autistic Non_Autistic.63.jpg\n",
      "Autistic Non_Autistic.64.jpg\n",
      "Autistic Non_Autistic.65.jpg\n",
      "Non_Autistic Non_Autistic.66.jpg\n",
      "Autistic Non_Autistic.67.jpg\n",
      "Non_Autistic Non_Autistic.68.jpg\n",
      "Autistic Non_Autistic.69.jpg\n",
      "Autistic Non_Autistic.7.jpg\n",
      "Autistic Non_Autistic.70.jpg\n",
      "Autistic Non_Autistic.71.jpg\n",
      "Non_Autistic Non_Autistic.72.jpg\n",
      "Autistic Non_Autistic.73.jpg\n",
      "Autistic Non_Autistic.74.jpg\n",
      "Non_Autistic Non_Autistic.75.jpg\n",
      "Autistic Non_Autistic.76.jpg\n",
      "Non_Autistic Non_Autistic.77.jpg\n",
      "Autistic Non_Autistic.78.jpg\n",
      "Autistic Non_Autistic.79.jpg\n",
      "Non_Autistic Non_Autistic.8.jpg\n",
      "Autistic Non_Autistic.80.jpg\n",
      "Autistic Non_Autistic.81.jpg\n",
      "Autistic Non_Autistic.82.jpg\n",
      "Autistic Non_Autistic.83.jpg\n",
      "Autistic Non_Autistic.84.jpg\n",
      "Autistic Non_Autistic.85.jpg\n",
      "Autistic Non_Autistic.86.jpg\n",
      "Autistic Non_Autistic.87.jpg\n",
      "Non_Autistic Non_Autistic.88.jpg\n",
      "Autistic Non_Autistic.89.jpg\n",
      "Autistic Non_Autistic.9.jpg\n",
      "Autistic Non_Autistic.90.jpg\n"
     ]
    },
    {
     "name": "stdout",
     "output_type": "stream",
     "text": [
      "Non_Autistic Non_Autistic.91.jpg\n",
      "Autistic Non_Autistic.92.jpg\n",
      "Non_Autistic Non_Autistic.93.jpg\n",
      "Autistic Non_Autistic.94.jpg\n",
      "Autistic Non_Autistic.95.jpg\n",
      "Autistic Non_Autistic.96.jpg\n",
      "Non_Autistic Non_Autistic.97.jpg\n",
      "Autistic Non_Autistic.98.jpg\n",
      "Non_Autistic Non_Autistic.99.jpg\n"
     ]
    }
   ],
   "source": [
    "dir_path = path + 'test'\n",
    "\n",
    "for i in os.listdir(dir_path):\n",
    "    img = image.load_img(dir_path+'//'+i, target_size = (IMG_HEIGHT,IMG_WIDTH,3))\n",
    "    X = image.img_to_array(img)\n",
    "    X = np.expand_dims(X,axis=0)\n",
    "    images = np.vstack([X])\n",
    "    val = model.predict(images)\n",
    "    if val == 0:\n",
    "        print('Autistic', i)\n",
    "    else:\n",
    "        print('Non_Autistic', i)"
   ]
  },
  {
   "cell_type": "code",
   "execution_count": 37,
   "metadata": {},
   "outputs": [],
   "source": [
    "tfjs.converters.save_keras_model(model, 'models')"
   ]
  },
  {
   "cell_type": "code",
   "execution_count": null,
   "metadata": {},
   "outputs": [],
   "source": []
  }
 ],
 "metadata": {
  "colab": {
   "authorship_tag": "ABX9TyMuWdHQVKjNz7XBFmNawwQV",
   "collapsed_sections": [],
   "name": "ASDModel.ipynb",
   "version": ""
  },
  "kernelspec": {
   "display_name": "Python 3 (ipykernel)",
   "language": "python",
   "name": "python3"
  },
  "language_info": {
   "codemirror_mode": {
    "name": "ipython",
    "version": 3
   },
   "file_extension": ".py",
   "mimetype": "text/x-python",
   "name": "python",
   "nbconvert_exporter": "python",
   "pygments_lexer": "ipython3",
   "version": "3.9.7"
  }
 },
 "nbformat": 4,
 "nbformat_minor": 1
}
